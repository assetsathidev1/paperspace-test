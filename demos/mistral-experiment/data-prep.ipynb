{
 "cells": [
  {
   "cell_type": "code",
   "execution_count": null,
   "id": "d74e1d18-f210-4919-8b52-15fe6b41b314",
   "metadata": {},
   "outputs": [],
   "source": [
    "!pip install lightning\n",
    "!pip install pigments\n",
    "!pip install transformers==4.23.1\n",
    "!pip install datasets==2.6.1\n",
    "!pip install huggingface-hub==0.11.1"
   ]
  },
  {
   "cell_type": "code",
   "execution_count": 12,
   "id": "6f4ddfbb-81dc-48c9-ac1d-b38cb11b20d5",
   "metadata": {
    "collapsed": true,
    "execution": {
     "iopub.execute_input": "2023-11-11T05:58:18.419037Z",
     "iopub.status.busy": "2023-11-11T05:58:18.418160Z",
     "iopub.status.idle": "2023-11-11T05:58:33.208657Z",
     "shell.execute_reply": "2023-11-11T05:58:33.207690Z",
     "shell.execute_reply.started": "2023-11-11T05:58:18.419006Z"
    },
    "jupyter": {
     "outputs_hidden": true
    }
   },
   "outputs": [
    {
     "name": "stdout",
     "output_type": "stream",
     "text": [
      "Collecting langchain==0.0.169\n",
      "  Downloading langchain-0.0.169-py3-none-any.whl (823 kB)\n",
      "\u001b[2K     \u001b[90m━━━━━━━━━━━━━━━━━━━━━━━━━━━━━━━━━━━━━━\u001b[0m \u001b[32m823.7/823.7 kB\u001b[0m \u001b[31m33.8 MB/s\u001b[0m eta \u001b[36m0:00:00\u001b[0m\n",
      "\u001b[?25hRequirement already satisfied: async-timeout<5.0.0,>=4.0.0 in /usr/local/lib/python3.9/dist-packages (from langchain==0.0.169) (4.0.2)\n",
      "Requirement already satisfied: tenacity<9.0.0,>=8.1.0 in /usr/local/lib/python3.9/dist-packages (from langchain==0.0.169) (8.2.3)\n",
      "Collecting openapi-schema-pydantic<2.0,>=1.2\n",
      "  Downloading openapi_schema_pydantic-1.2.4-py3-none-any.whl (90 kB)\n",
      "\u001b[2K     \u001b[90m━━━━━━━━━━━━━━━━━━━━━━━━━━━━━━━━━━━━━━━━\u001b[0m \u001b[32m90.0/90.0 kB\u001b[0m \u001b[31m15.0 MB/s\u001b[0m eta \u001b[36m0:00:00\u001b[0m\n",
      "\u001b[?25hCollecting dataclasses-json<0.6.0,>=0.5.7\n",
      "  Downloading dataclasses_json-0.5.14-py3-none-any.whl (26 kB)\n",
      "Requirement already satisfied: aiohttp<4.0.0,>=3.8.3 in /usr/local/lib/python3.9/dist-packages (from langchain==0.0.169) (3.8.3)\n",
      "Requirement already satisfied: SQLAlchemy<3,>=1.4 in /usr/local/lib/python3.9/dist-packages (from langchain==0.0.169) (1.4.41)\n",
      "Requirement already satisfied: PyYAML>=5.4.1 in /usr/local/lib/python3.9/dist-packages (from langchain==0.0.169) (5.4.1)\n",
      "Collecting numexpr<3.0.0,>=2.8.4\n",
      "  Downloading numexpr-2.8.7-cp39-cp39-manylinux_2_17_x86_64.manylinux2014_x86_64.whl (383 kB)\n",
      "\u001b[2K     \u001b[90m━━━━━━━━━━━━━━━━━━━━━━━━━━━━━━━━━━━━━━\u001b[0m \u001b[32m383.7/383.7 kB\u001b[0m \u001b[31m33.6 MB/s\u001b[0m eta \u001b[36m0:00:00\u001b[0m\n",
      "\u001b[?25hRequirement already satisfied: numpy<2,>=1 in /usr/local/lib/python3.9/dist-packages (from langchain==0.0.169) (1.23.4)\n",
      "Requirement already satisfied: pydantic<2,>=1 in /usr/local/lib/python3.9/dist-packages (from langchain==0.0.169) (1.9.2)\n",
      "Requirement already satisfied: requests<3,>=2 in /usr/local/lib/python3.9/dist-packages (from langchain==0.0.169) (2.28.2)\n",
      "Requirement already satisfied: frozenlist>=1.1.1 in /usr/local/lib/python3.9/dist-packages (from aiohttp<4.0.0,>=3.8.3->langchain==0.0.169) (1.3.3)\n",
      "Requirement already satisfied: multidict<7.0,>=4.5 in /usr/local/lib/python3.9/dist-packages (from aiohttp<4.0.0,>=3.8.3->langchain==0.0.169) (6.0.4)\n",
      "Requirement already satisfied: yarl<2.0,>=1.0 in /usr/local/lib/python3.9/dist-packages (from aiohttp<4.0.0,>=3.8.3->langchain==0.0.169) (1.8.2)\n",
      "Requirement already satisfied: aiosignal>=1.1.2 in /usr/local/lib/python3.9/dist-packages (from aiohttp<4.0.0,>=3.8.3->langchain==0.0.169) (1.3.1)\n",
      "Requirement already satisfied: charset-normalizer<3.0,>=2.0 in /usr/local/lib/python3.9/dist-packages (from aiohttp<4.0.0,>=3.8.3->langchain==0.0.169) (2.1.1)\n",
      "Requirement already satisfied: attrs>=17.3.0 in /usr/local/lib/python3.9/dist-packages (from aiohttp<4.0.0,>=3.8.3->langchain==0.0.169) (18.2.0)\n",
      "Requirement already satisfied: typing-inspect<1,>=0.4.0 in /usr/local/lib/python3.9/dist-packages (from dataclasses-json<0.6.0,>=0.5.7->langchain==0.0.169) (0.9.0)\n",
      "Requirement already satisfied: marshmallow<4.0.0,>=3.18.0 in /usr/local/lib/python3.9/dist-packages (from dataclasses-json<0.6.0,>=0.5.7->langchain==0.0.169) (3.20.1)\n",
      "Requirement already satisfied: typing-extensions>=3.7.4.3 in /usr/local/lib/python3.9/dist-packages (from pydantic<2,>=1->langchain==0.0.169) (4.8.0)\n",
      "Requirement already satisfied: urllib3<1.27,>=1.21.1 in /usr/local/lib/python3.9/dist-packages (from requests<3,>=2->langchain==0.0.169) (1.26.14)\n",
      "Requirement already satisfied: idna<4,>=2.5 in /usr/lib/python3/dist-packages (from requests<3,>=2->langchain==0.0.169) (2.8)\n",
      "Requirement already satisfied: certifi>=2017.4.17 in /usr/lib/python3/dist-packages (from requests<3,>=2->langchain==0.0.169) (2019.11.28)\n",
      "Requirement already satisfied: greenlet!=0.4.17 in /usr/local/lib/python3.9/dist-packages (from SQLAlchemy<3,>=1.4->langchain==0.0.169) (2.0.1)\n",
      "Requirement already satisfied: packaging>=17.0 in /usr/local/lib/python3.9/dist-packages (from marshmallow<4.0.0,>=3.18.0->dataclasses-json<0.6.0,>=0.5.7->langchain==0.0.169) (23.0)\n",
      "Requirement already satisfied: mypy-extensions>=0.3.0 in /usr/local/lib/python3.9/dist-packages (from typing-inspect<1,>=0.4.0->dataclasses-json<0.6.0,>=0.5.7->langchain==0.0.169) (1.0.0)\n",
      "Installing collected packages: numexpr, openapi-schema-pydantic, dataclasses-json, langchain\n",
      "  Attempting uninstall: dataclasses-json\n",
      "    Found existing installation: dataclasses-json 0.6.2\n",
      "    Uninstalling dataclasses-json-0.6.2:\n",
      "      Successfully uninstalled dataclasses-json-0.6.2\n",
      "  Attempting uninstall: langchain\n",
      "    Found existing installation: langchain 0.0.334\n",
      "    Uninstalling langchain-0.0.334:\n",
      "      Successfully uninstalled langchain-0.0.334\n",
      "Successfully installed dataclasses-json-0.5.14 langchain-0.0.169 numexpr-2.8.7 openapi-schema-pydantic-1.2.4\n",
      "\u001b[33mWARNING: Running pip as the 'root' user can result in broken permissions and conflicting behaviour with the system package manager. It is recommended to use a virtual environment instead: https://pip.pypa.io/warnings/venv\u001b[0m\u001b[33m\n",
      "\u001b[0mRequirement already satisfied: openai in /usr/local/lib/python3.9/dist-packages (1.2.3)\n",
      "Requirement already satisfied: typing-extensions<5,>=4.5 in /usr/local/lib/python3.9/dist-packages (from openai) (4.8.0)\n",
      "Requirement already satisfied: anyio<4,>=3.5.0 in /usr/local/lib/python3.9/dist-packages (from openai) (3.6.2)\n",
      "Requirement already satisfied: httpx<1,>=0.23.0 in /usr/local/lib/python3.9/dist-packages (from openai) (0.25.1)\n",
      "Requirement already satisfied: pydantic<3,>=1.9.0 in /usr/local/lib/python3.9/dist-packages (from openai) (1.9.2)\n",
      "Requirement already satisfied: tqdm>4 in /usr/local/lib/python3.9/dist-packages (from openai) (4.64.1)\n",
      "Requirement already satisfied: distro<2,>=1.7.0 in /usr/local/lib/python3.9/dist-packages (from openai) (1.8.0)\n",
      "Requirement already satisfied: idna>=2.8 in /usr/lib/python3/dist-packages (from anyio<4,>=3.5.0->openai) (2.8)\n",
      "Requirement already satisfied: sniffio>=1.1 in /usr/local/lib/python3.9/dist-packages (from anyio<4,>=3.5.0->openai) (1.3.0)\n",
      "Requirement already satisfied: httpcore in /usr/local/lib/python3.9/dist-packages (from httpx<1,>=0.23.0->openai) (1.0.2)\n",
      "Requirement already satisfied: certifi in /usr/lib/python3/dist-packages (from httpx<1,>=0.23.0->openai) (2019.11.28)\n",
      "Requirement already satisfied: h11<0.15,>=0.13 in /usr/local/lib/python3.9/dist-packages (from httpcore->httpx<1,>=0.23.0->openai) (0.14.0)\n",
      "\u001b[33mWARNING: Running pip as the 'root' user can result in broken permissions and conflicting behaviour with the system package manager. It is recommended to use a virtual environment instead: https://pip.pypa.io/warnings/venv\u001b[0m\u001b[33m\n",
      "\u001b[0m"
     ]
    }
   ],
   "source": [
    "!pip install langchain==0.0.169\n",
    "!pip install openai"
   ]
  },
  {
   "cell_type": "code",
   "execution_count": 11,
   "id": "520511ab-d5ed-48ca-aa63-6e209210b589",
   "metadata": {
    "execution": {
     "iopub.execute_input": "2023-11-11T05:57:52.032294Z",
     "iopub.status.busy": "2023-11-11T05:57:52.031213Z",
     "iopub.status.idle": "2023-11-11T05:57:53.372635Z",
     "shell.execute_reply": "2023-11-11T05:57:53.371738Z",
     "shell.execute_reply.started": "2023-11-11T05:57:52.032262Z"
    }
   },
   "outputs": [
    {
     "name": "stdout",
     "output_type": "stream",
     "text": [
      "langchain==0.0.334\n"
     ]
    }
   ],
   "source": [
    "# !pip freeze | grep langchain"
   ]
  },
  {
   "cell_type": "code",
   "execution_count": 13,
   "id": "14efd0eb-3bd7-4f3a-ac4f-03f48d5529fc",
   "metadata": {
    "execution": {
     "iopub.execute_input": "2023-11-11T05:58:37.430616Z",
     "iopub.status.busy": "2023-11-11T05:58:37.430235Z",
     "iopub.status.idle": "2023-11-11T05:58:37.441355Z",
     "shell.execute_reply": "2023-11-11T05:58:37.440638Z",
     "shell.execute_reply.started": "2023-11-11T05:58:37.430586Z"
    }
   },
   "outputs": [],
   "source": [
    "import os\n",
    "OPENAI_API_KEY = os.getenv(\"OPENAI_API_KEY\")"
   ]
  },
  {
   "cell_type": "code",
   "execution_count": 14,
   "id": "fa1620e3-2831-4a7a-9d9c-c2bd95b604a5",
   "metadata": {
    "execution": {
     "iopub.execute_input": "2023-11-11T05:58:41.368566Z",
     "iopub.status.busy": "2023-11-11T05:58:41.368165Z",
     "iopub.status.idle": "2023-11-11T05:58:41.373664Z",
     "shell.execute_reply": "2023-11-11T05:58:41.372589Z",
     "shell.execute_reply.started": "2023-11-11T05:58:41.368537Z"
    }
   },
   "outputs": [],
   "source": [
    "# from langchain.llms import OpenAI\n",
    "# # from langchain.chat_models import ChatOpenAI\n",
    "\n",
    "# from langchain.schema import HumanMessage\n",
    "\n",
    "# text = \"What would be a good company name for a company that makes colorful socks?\"\n",
    "# messages = [HumanMessage(content=text)]\n",
    "\n",
    "\n",
    "# chat_model.invoke(messages)\n",
    "\n"
   ]
  },
  {
   "cell_type": "code",
   "execution_count": 9,
   "id": "0401806e-984f-4543-8946-075d76d89b08",
   "metadata": {
    "execution": {
     "iopub.execute_input": "2023-11-11T05:47:50.787612Z",
     "iopub.status.busy": "2023-11-11T05:47:50.786490Z",
     "iopub.status.idle": "2023-11-11T05:47:50.791869Z",
     "shell.execute_reply": "2023-11-11T05:47:50.790650Z",
     "shell.execute_reply.started": "2023-11-11T05:47:50.787572Z"
    }
   },
   "outputs": [],
   "source": [
    "# from langchain.prompts import PromptTemplate\n",
    "# from langchain.llms import OpenAI\n",
    "# from langchain.chains import LLMChain\n"
   ]
  },
  {
   "cell_type": "code",
   "execution_count": null,
   "id": "11b0075c-33cb-4ca9-9423-14fccb3ea9ca",
   "metadata": {},
   "outputs": [],
   "source": [
    "from langchain import PromptTemplate, LLMChain, OpenAI"
   ]
  },
  {
   "cell_type": "code",
   "execution_count": 17,
   "id": "98112114-d376-4a7d-bd11-6f86e1809110",
   "metadata": {
    "execution": {
     "iopub.execute_input": "2023-11-11T05:59:43.346262Z",
     "iopub.status.busy": "2023-11-11T05:59:43.345920Z",
     "iopub.status.idle": "2023-11-11T05:59:43.350855Z",
     "shell.execute_reply": "2023-11-11T05:59:43.349780Z",
     "shell.execute_reply.started": "2023-11-11T05:59:43.346236Z"
    }
   },
   "outputs": [],
   "source": [
    "\n",
    "\n",
    "def generate_story(scenario):\n",
    "    template = \"\"\"\n",
    "    you are a storyteller.\n",
    "    you can generate a short story based on a simple narrative\n",
    "    the story should be no more than 50 words\n",
    "\n",
    "    CONTEXT: {scenario}\n",
    "    STORY:\n",
    "    \"\"\"\n",
    "    prompt = PromptTemplate(template=template, input_variables=[\"scenario\"])\n",
    "\n",
    "    story_llm = LLMChain(llm=OpenAI(\n",
    "        model_name=\"gpt-3.5-turbo\",\n",
    "        temperature=1\n",
    "    ), prompt=prompt, verbose=True)\n",
    "\n",
    "    story = story_llm.predict(scenario=scenario)\n",
    "    print(story)\n",
    "    return story"
   ]
  },
  {
   "cell_type": "code",
   "execution_count": null,
   "id": "19f686c8-a7db-4337-8c64-12e37481cc26",
   "metadata": {},
   "outputs": [],
   "source": [
    "generate_story(\"bride ready to get married\")"
   ]
  },
  {
   "cell_type": "code",
   "execution_count": null,
   "id": "a5e7e377-61b7-482b-aec2-01af97d78f34",
   "metadata": {},
   "outputs": [],
   "source": []
  }
 ],
 "metadata": {
  "kernelspec": {
   "display_name": "Python 3 (ipykernel)",
   "language": "python",
   "name": "python3"
  },
  "language_info": {
   "codemirror_mode": {
    "name": "ipython",
    "version": 3
   },
   "file_extension": ".py",
   "mimetype": "text/x-python",
   "name": "python",
   "nbconvert_exporter": "python",
   "pygments_lexer": "ipython3",
   "version": "3.9.16"
  }
 },
 "nbformat": 4,
 "nbformat_minor": 5
}
