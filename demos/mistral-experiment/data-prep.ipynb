{
 "cells": [
  {
   "cell_type": "code",
   "execution_count": null,
   "id": "d74e1d18-f210-4919-8b52-15fe6b41b314",
   "metadata": {},
   "outputs": [],
   "source": [
    "!pip install lightning\n",
    "!pip install pigments\n",
    "!pip install transformers==4.23.1\n",
    "!pip install datasets==2.6.1\n",
    "!pip install huggingface-hub==0.11.1"
   ]
  },
  {
   "cell_type": "code",
   "execution_count": null,
   "id": "6f4ddfbb-81dc-48c9-ac1d-b38cb11b20d5",
   "metadata": {},
   "outputs": [],
   "source": [
    "!pip install langchain\n",
    "!pip install openai"
   ]
  },
  {
   "cell_type": "code",
   "execution_count": null,
   "id": "14efd0eb-3bd7-4f3a-ac4f-03f48d5529fc",
   "metadata": {},
   "outputs": [],
   "source": []
  },
  {
   "cell_type": "code",
   "execution_count": null,
   "id": "0401806e-984f-4543-8946-075d76d89b08",
   "metadata": {},
   "outputs": [],
   "source": [
    "from langchain.prompts import PromptTemplate\n",
    "from langchain.llms import OpenAI\n",
    "from langchain.chains import LLMChain\n",
    "import os"
   ]
  },
  {
   "cell_type": "code",
   "execution_count": null,
   "id": "11b0075c-33cb-4ca9-9423-14fccb3ea9ca",
   "metadata": {},
   "outputs": [],
   "source": [
    "OPENAI_API_KEY = os.getenv(\"OPENAI_API_KEY\")"
   ]
  },
  {
   "cell_type": "code",
   "execution_count": null,
   "id": "98112114-d376-4a7d-bd11-6f86e1809110",
   "metadata": {},
   "outputs": [],
   "source": [
    "def generate_story(scenario):\n",
    "    template = \"\"\"\n",
    "    you are a storyteller.\n",
    "    you can generate a short story based on a simple narrative\n",
    "    the story should be no more than 50 words\n",
    "\n",
    "    CONTEXT: {scenario}\n",
    "    STORY:\n",
    "    \"\"\"\n",
    "    prompt = PromptTemplate(template=template, input_variables=[\"scenario\"])\n",
    "\n",
    "    story_llm = LLMChain(llm=OpenAI(\n",
    "        model_name=\"gpt-3.5-turbo\",\n",
    "        temperature=1\n",
    "    ), prompt=prompt, verbose=True)\n",
    "\n",
    "    story = story_llm.predict(scenario=scenario)\n",
    "    print(story)\n",
    "    return story"
   ]
  },
  {
   "cell_type": "code",
   "execution_count": null,
   "id": "19f686c8-a7db-4337-8c64-12e37481cc26",
   "metadata": {},
   "outputs": [],
   "source": [
    "generate_story(\"bride ready to get married\")"
   ]
  },
  {
   "cell_type": "code",
   "execution_count": null,
   "id": "a5e7e377-61b7-482b-aec2-01af97d78f34",
   "metadata": {},
   "outputs": [],
   "source": []
  }
 ],
 "metadata": {
  "kernelspec": {
   "display_name": "Python 3 (ipykernel)",
   "language": "python",
   "name": "python3"
  },
  "language_info": {
   "codemirror_mode": {
    "name": "ipython",
    "version": 3
   },
   "file_extension": ".py",
   "mimetype": "text/x-python",
   "name": "python",
   "nbconvert_exporter": "python",
   "pygments_lexer": "ipython3",
   "version": "3.9.16"
  }
 },
 "nbformat": 4,
 "nbformat_minor": 5
}
